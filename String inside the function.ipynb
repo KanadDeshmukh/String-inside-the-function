{
 "cells": [
  {
   "cell_type": "code",
   "execution_count": 3,
   "id": "c0629a17",
   "metadata": {},
   "outputs": [
    {
     "name": "stdout",
     "output_type": "stream",
     "text": [
      "The original string is: 1234abcd\n",
      "The reverse string is: dcba4321 \n"
     ]
    }
   ],
   "source": [
    "def reverse(str):\n",
    "    string = \" \"\n",
    "    for i in str:\n",
    "        string = i + string\n",
    "    return string\n",
    "str = \"1234abcd\"\n",
    "print(\"The original string is:\",str)\n",
    "print(\"The reverse string is:\", reverse(str)) "
   ]
  },
  {
   "cell_type": "code",
   "execution_count": null,
   "id": "2583a0c8",
   "metadata": {},
   "outputs": [],
   "source": []
  }
 ],
 "metadata": {
  "kernelspec": {
   "display_name": "Python 3 (ipykernel)",
   "language": "python",
   "name": "python3"
  },
  "language_info": {
   "codemirror_mode": {
    "name": "ipython",
    "version": 3
   },
   "file_extension": ".py",
   "mimetype": "text/x-python",
   "name": "python",
   "nbconvert_exporter": "python",
   "pygments_lexer": "ipython3",
   "version": "3.9.6"
  }
 },
 "nbformat": 4,
 "nbformat_minor": 5
}
